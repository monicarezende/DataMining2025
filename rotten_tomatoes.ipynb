{
 "cells": [
  {
   "cell_type": "code",
   "execution_count": 1,
   "id": "077a9506",
   "metadata": {},
   "outputs": [],
   "source": [
    "import pandas as pd\n",
    "from textblob import TextBlob"
   ]
  },
  {
   "cell_type": "code",
   "execution_count": 2,
   "id": "41b99c7c",
   "metadata": {},
   "outputs": [],
   "source": [
    "def get_sentiment(text):\n",
    "    polarity = TextBlob(text).sentiment.polarity\n",
    "    if polarity > 0.1:\n",
    "        return 'POSITIVE'\n",
    "    elif polarity < -0.1:\n",
    "        return 'NEGATIVE'\n",
    "    else:\n",
    "        return 'NEUTRAL'"
   ]
  },
  {
   "cell_type": "code",
   "execution_count": 3,
   "id": "21b40e38",
   "metadata": {},
   "outputs": [],
   "source": [
    "critics = pd.read_csv('rotten_tomatoes_critic_reviews.csv')\n",
    "movies = pd.read_csv('rotten_tomatoes_movies.csv')"
   ]
  },
  {
   "cell_type": "code",
   "execution_count": 4,
   "id": "a3981196",
   "metadata": {},
   "outputs": [],
   "source": [
    "critics['sentiment'] = critics['review_content'].dropna().apply(get_sentiment)"
   ]
  },
  {
   "cell_type": "code",
   "execution_count": 9,
   "id": "a8f94e9c",
   "metadata": {},
   "outputs": [],
   "source": [
    "movies_critics = movies.merge(critics, on='rotten_tomatoes_link', how='left')"
   ]
  },
  {
   "cell_type": "code",
   "execution_count": null,
   "id": "e39bf6ec",
   "metadata": {},
   "outputs": [],
   "source": []
  }
 ],
 "metadata": {
  "kernelspec": {
   "display_name": "base",
   "language": "python",
   "name": "python3"
  },
  "language_info": {
   "codemirror_mode": {
    "name": "ipython",
    "version": 3
   },
   "file_extension": ".py",
   "mimetype": "text/x-python",
   "name": "python",
   "nbconvert_exporter": "python",
   "pygments_lexer": "ipython3",
   "version": "3.11.5"
  }
 },
 "nbformat": 4,
 "nbformat_minor": 5
}
